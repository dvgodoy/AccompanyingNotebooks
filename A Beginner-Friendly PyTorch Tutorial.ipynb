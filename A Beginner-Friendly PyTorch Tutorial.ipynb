{
 "cells": [
  {
   "cell_type": "markdown",
   "metadata": {
    "id": "HsoJitLznFM2"
   },
   "source": [
    "# A Beginner-Friendly PyTorch Tutorial: Build and Train Your First Model\n",
    "\n",
    "This is the accompanying notebook for my [blog post](https://huggingface.co/blog/dvgodoy/beginner-pytorch-tutorial) published on Hugging Face"
   ]
  },
  {
   "cell_type": "markdown",
   "metadata": {
    "id": "66d8mzvGi6_H"
   },
   "source": [
    "## Data Generation"
   ]
  },
  {
   "cell_type": "code",
   "execution_count": 1,
   "metadata": {
    "id": "FOVnFPsVifHv"
   },
   "outputs": [],
   "source": [
    "import numpy as np\n",
    "\n",
    "# Data Generation\n",
    "np.random.seed(42)\n",
    "x = np.random.rand(100, 1)\n",
    "y = 1 + 2 * x + .1 * np.random.randn(100, 1)\n",
    "\n",
    "# Shuffles the indices\n",
    "idx = np.arange(100)\n",
    "np.random.shuffle(idx)\n",
    "\n",
    "# Uses first 80 random indices for train\n",
    "train_idx = idx[:80]\n",
    "# Uses the remaining indices for validation\n",
    "val_idx = idx[80:]\n",
    "\n",
    "# Generates train and validation sets\n",
    "x_train, y_train = x[train_idx], y[train_idx]\n",
    "x_val, y_val = x[val_idx], y[val_idx]\n"
   ]
  },
  {
   "cell_type": "markdown",
   "metadata": {
    "id": "6TvPfMK-i_kj"
   },
   "source": [
    "## Linear Regression in Numpy"
   ]
  },
  {
   "cell_type": "code",
   "execution_count": 2,
   "metadata": {
    "colab": {
     "base_uri": "https://localhost:8080/"
    },
    "id": "t4f1mAxHi1Y-",
    "outputId": "a8f8b810-71bc-446b-ea3d-a5ddfcd4dfca"
   },
   "outputs": [
    {
     "name": "stdout",
     "output_type": "stream",
     "text": [
      "[0.49671415] [-0.1382643]\n",
      "[1.02354094] [1.96896411]\n",
      "[1.02354075] [1.96896447]\n"
     ]
    }
   ],
   "source": [
    "# Initializes parameters \"a\" and \"b\" randomly\n",
    "np.random.seed(42)\n",
    "a = np.random.randn(1)  # Line 3\n",
    "b = np.random.randn(1)  # Line 4\n",
    "\n",
    "print(a, b)\n",
    "\n",
    "# Sets learning rate\n",
    "lr = 1e-1               # Line 9\n",
    "# Defines number of epochs\n",
    "n_epochs = 1000         # Line 11\n",
    "\n",
    "for epoch in range(n_epochs):\n",
    "    # Step 1: Computes our model's predicted output\n",
    "    yhat = a + b * x_train      # Line 15\n",
    "    # Step 2\n",
    "    # How wrong is our model? That's the error!\n",
    "    error = (y_train - yhat)    # Line 18\n",
    "    # It is a regression, so it computes mean squared error (MSE)\n",
    "    loss = (error ** 2).mean()  # Line 20\n",
    "    # Step 3\n",
    "    # Computes gradients for both \"a\" and \"b\" parameters\n",
    "    a_grad = -2 * error.mean()             # Line 23\n",
    "    b_grad = -2 * (x_train * error).mean() # Line 24\n",
    "    # Step 4\n",
    "    # Updates parameters using gradients and the learning rate\n",
    "    a = a - lr * a_grad   # Line 27\n",
    "    b = b - lr * b_grad   # Line 28\n",
    "\n",
    "print(a, b)\n",
    "\n",
    "# Sanity Check: do we get the same results as our gradient descent?\n",
    "from sklearn.linear_model import LinearRegression\n",
    "linr = LinearRegression()\n",
    "linr.fit(x_train, y_train)\n",
    "print(linr.intercept_, linr.coef_[0])"
   ]
  },
  {
   "cell_type": "markdown",
   "metadata": {
    "id": "ESwCpz5ZjNOE"
   },
   "source": [
    "## PyTorch"
   ]
  },
  {
   "cell_type": "markdown",
   "metadata": {
    "id": "JcmOAg4OjQLu"
   },
   "source": [
    "### Loading Data, Devices, and CUDA"
   ]
  },
  {
   "cell_type": "code",
   "execution_count": 3,
   "metadata": {
    "colab": {
     "base_uri": "https://localhost:8080/"
    },
    "id": "0W8qeUBhjW2_",
    "outputId": "7ee54175-4a79-4227-c814-48aa434f2eb8"
   },
   "outputs": [
    {
     "name": "stdout",
     "output_type": "stream",
     "text": [
      "Collecting torchviz\n",
      "  Downloading torchviz-0.0.3-py3-none-any.whl.metadata (2.1 kB)\n",
      "Requirement already satisfied: torch in /usr/local/lib/python3.11/dist-packages (from torchviz) (2.5.1+cu121)\n",
      "Requirement already satisfied: graphviz in /usr/local/lib/python3.11/dist-packages (from torchviz) (0.20.3)\n",
      "Requirement already satisfied: filelock in /usr/local/lib/python3.11/dist-packages (from torch->torchviz) (3.16.1)\n",
      "Requirement already satisfied: typing-extensions>=4.8.0 in /usr/local/lib/python3.11/dist-packages (from torch->torchviz) (4.12.2)\n",
      "Requirement already satisfied: networkx in /usr/local/lib/python3.11/dist-packages (from torch->torchviz) (3.4.2)\n",
      "Requirement already satisfied: jinja2 in /usr/local/lib/python3.11/dist-packages (from torch->torchviz) (3.1.5)\n",
      "Requirement already satisfied: fsspec in /usr/local/lib/python3.11/dist-packages (from torch->torchviz) (2024.10.0)\n",
      "Requirement already satisfied: nvidia-cuda-nvrtc-cu12==12.1.105 in /usr/local/lib/python3.11/dist-packages (from torch->torchviz) (12.1.105)\n",
      "Requirement already satisfied: nvidia-cuda-runtime-cu12==12.1.105 in /usr/local/lib/python3.11/dist-packages (from torch->torchviz) (12.1.105)\n",
      "Requirement already satisfied: nvidia-cuda-cupti-cu12==12.1.105 in /usr/local/lib/python3.11/dist-packages (from torch->torchviz) (12.1.105)\n",
      "Requirement already satisfied: nvidia-cudnn-cu12==9.1.0.70 in /usr/local/lib/python3.11/dist-packages (from torch->torchviz) (9.1.0.70)\n",
      "Requirement already satisfied: nvidia-cublas-cu12==12.1.3.1 in /usr/local/lib/python3.11/dist-packages (from torch->torchviz) (12.1.3.1)\n",
      "Requirement already satisfied: nvidia-cufft-cu12==11.0.2.54 in /usr/local/lib/python3.11/dist-packages (from torch->torchviz) (11.0.2.54)\n",
      "Requirement already satisfied: nvidia-curand-cu12==10.3.2.106 in /usr/local/lib/python3.11/dist-packages (from torch->torchviz) (10.3.2.106)\n",
      "Requirement already satisfied: nvidia-cusolver-cu12==11.4.5.107 in /usr/local/lib/python3.11/dist-packages (from torch->torchviz) (11.4.5.107)\n",
      "Requirement already satisfied: nvidia-cusparse-cu12==12.1.0.106 in /usr/local/lib/python3.11/dist-packages (from torch->torchviz) (12.1.0.106)\n",
      "Requirement already satisfied: nvidia-nccl-cu12==2.21.5 in /usr/local/lib/python3.11/dist-packages (from torch->torchviz) (2.21.5)\n",
      "Requirement already satisfied: nvidia-nvtx-cu12==12.1.105 in /usr/local/lib/python3.11/dist-packages (from torch->torchviz) (12.1.105)\n",
      "Requirement already satisfied: triton==3.1.0 in /usr/local/lib/python3.11/dist-packages (from torch->torchviz) (3.1.0)\n",
      "Requirement already satisfied: sympy==1.13.1 in /usr/local/lib/python3.11/dist-packages (from torch->torchviz) (1.13.1)\n",
      "Requirement already satisfied: nvidia-nvjitlink-cu12 in /usr/local/lib/python3.11/dist-packages (from nvidia-cusolver-cu12==11.4.5.107->torch->torchviz) (12.6.85)\n",
      "Requirement already satisfied: mpmath<1.4,>=1.1.0 in /usr/local/lib/python3.11/dist-packages (from sympy==1.13.1->torch->torchviz) (1.3.0)\n",
      "Requirement already satisfied: MarkupSafe>=2.0 in /usr/local/lib/python3.11/dist-packages (from jinja2->torch->torchviz) (3.0.2)\n",
      "Downloading torchviz-0.0.3-py3-none-any.whl (5.7 kB)\n",
      "Installing collected packages: torchviz\n",
      "Successfully installed torchviz-0.0.3\n"
     ]
    }
   ],
   "source": [
    "!pip install torchviz"
   ]
  },
  {
   "cell_type": "code",
   "execution_count": 4,
   "metadata": {
    "colab": {
     "base_uri": "https://localhost:8080/"
    },
    "id": "LlihdzYojEvD",
    "outputId": "1794503b-e24f-4cbc-b6cb-2428d02f1e0c"
   },
   "outputs": [
    {
     "name": "stdout",
     "output_type": "stream",
     "text": [
      "<class 'numpy.ndarray'> <class 'torch.Tensor'> torch.cuda.FloatTensor\n"
     ]
    }
   ],
   "source": [
    "import torch\n",
    "import torch.optim as optim\n",
    "import torch.nn as nn\n",
    "from torchviz import make_dot\n",
    "\n",
    "device = 'cuda' if torch.cuda.is_available() else 'cpu'\n",
    "\n",
    "# Our data was in Numpy arrays, but we need to transform them into PyTorch's Tensors\n",
    "# and then we send them to the chosen device\n",
    "x_train_tensor = torch.from_numpy(x_train).float().to(device)\n",
    "y_train_tensor = torch.from_numpy(y_train).float().to(device)\n",
    "\n",
    "# Here we can see the difference - notice that .type() is more useful\n",
    "# since it also tells us WHERE the tensor is (device)\n",
    "print(type(x_train), type(x_train_tensor), x_train_tensor.type())"
   ]
  },
  {
   "cell_type": "markdown",
   "metadata": {
    "id": "83ks_I61je9_"
   },
   "source": [
    "### Creating Parameters"
   ]
  },
  {
   "cell_type": "code",
   "execution_count": 5,
   "metadata": {
    "colab": {
     "base_uri": "https://localhost:8080/"
    },
    "id": "5NbiQg5pjZdY",
    "outputId": "9e47af6c-01de-4129-9409-89e8b8c36f93"
   },
   "outputs": [
    {
     "name": "stdout",
     "output_type": "stream",
     "text": [
      "tensor([0.1940], device='cuda:0', requires_grad=True) tensor([0.1391], device='cuda:0', requires_grad=True)\n"
     ]
    }
   ],
   "source": [
    "# We can specify the device at the moment of creation - RECOMMENDED!\n",
    "torch.manual_seed(42)\n",
    "a = torch.randn(1, requires_grad=True, dtype=torch.float, device=device)\n",
    "b = torch.randn(1, requires_grad=True, dtype=torch.float, device=device)\n",
    "print(a, b)"
   ]
  },
  {
   "cell_type": "markdown",
   "metadata": {
    "id": "ziyqFwVGjtcq"
   },
   "source": [
    "### Autograd"
   ]
  },
  {
   "cell_type": "code",
   "execution_count": 6,
   "metadata": {
    "colab": {
     "base_uri": "https://localhost:8080/"
    },
    "id": "Ga1_qOLdjgpb",
    "outputId": "5a0735a4-eedf-4a8f-8cdf-c284a0f931a1"
   },
   "outputs": [
    {
     "name": "stdout",
     "output_type": "stream",
     "text": [
      "tensor([1.0235], device='cuda:0', requires_grad=True) tensor([1.9690], device='cuda:0', requires_grad=True)\n"
     ]
    }
   ],
   "source": [
    "lr = 1e-1\n",
    "n_epochs = 1000\n",
    "\n",
    "torch.manual_seed(42)\n",
    "a = torch.randn(1, requires_grad=True, dtype=torch.float, device=device)\n",
    "b = torch.randn(1, requires_grad=True, dtype=torch.float, device=device)\n",
    "\n",
    "for epoch in range(n_epochs):\n",
    "    # Step 1\n",
    "    yhat = a + b * x_train_tensor\n",
    "    # Step 2\n",
    "    error = y_train_tensor - yhat\n",
    "    loss = (error ** 2).mean()\n",
    "\n",
    "    # No more manual computation of gradients!\n",
    "    # a_grad = -2 * error.mean()\n",
    "    # b_grad = -2 * (x_tensor * error).mean()\n",
    "\n",
    "    # Step 3\n",
    "    # We just tell PyTorch to work its way BACKWARDS from the specified loss!\n",
    "    loss.backward()\n",
    "    # Let's check the computed gradients...\n",
    "    # print(a.grad)\n",
    "    # print(b.grad)\n",
    "\n",
    "    # What about UPDATING the parameters? Not so fast...\n",
    "\n",
    "    # FIRST ATTEMPT\n",
    "    # AttributeError: 'NoneType' object has no attribute 'zero_'\n",
    "    # a = a - lr * a.grad\n",
    "    # b = b - lr * b.grad\n",
    "    # print(a)\n",
    "\n",
    "    # SECOND ATTEMPT\n",
    "    # RuntimeError: a leaf Variable that requires grad has been used in an in-place operation.\n",
    "    # a -= lr * a.grad\n",
    "    # b -= lr * b.grad\n",
    "\n",
    "    # THIRD ATTEMPT\n",
    "    # We need to use NO_GRAD to keep the update out of the gradient computation\n",
    "    # Why is that? It boils down to the DYNAMIC GRAPH that PyTorch uses...\n",
    "    # Step 4\n",
    "    with torch.no_grad():\n",
    "        a -= lr * a.grad\n",
    "        b -= lr * b.grad\n",
    "\n",
    "    # PyTorch is \"clingy\" to its computed gradients, we need to tell it to let it go...\n",
    "    a.grad.zero_()\n",
    "    b.grad.zero_()\n",
    "\n",
    "print(a, b)"
   ]
  },
  {
   "cell_type": "markdown",
   "metadata": {
    "id": "O71XydVnkFVG"
   },
   "source": [
    "### Dynamic Computation Graph"
   ]
  },
  {
   "cell_type": "code",
   "execution_count": 29,
   "metadata": {
    "id": "_LDQKzFajw2V"
   },
   "outputs": [],
   "source": [
    "torch.manual_seed(42)\n",
    "a = torch.randn(1, requires_grad=True, dtype=torch.float, device=device)\n",
    "b = torch.randn(1, requires_grad=True, dtype=torch.float, device=device)\n",
    "\n",
    "yhat = a + b * x_train_tensor\n",
    "error = y_train_tensor - yhat\n",
    "loss = (error ** 2).mean()"
   ]
  },
  {
   "cell_type": "code",
   "execution_count": 34,
   "metadata": {
    "colab": {
     "base_uri": "https://localhost:8080/",
     "height": 393
    },
    "id": "A_sBv8BNkIJs",
    "outputId": "781b7806-71d0-457a-9539-4e582c057ad7"
   },
   "outputs": [
    {
     "data": {
      "image/svg+xml": [
       "<?xml version=\"1.0\" encoding=\"UTF-8\" standalone=\"no\"?>\n",
       "<!DOCTYPE svg PUBLIC \"-//W3C//DTD SVG 1.1//EN\"\n",
       " \"http://www.w3.org/Graphics/SVG/1.1/DTD/svg11.dtd\">\n",
       "<!-- Generated by graphviz version 2.43.0 (0)\n",
       " -->\n",
       "<!-- Title: %3 Pages: 1 -->\n",
       "<svg width=\"222pt\" height=\"280pt\"\n",
       " viewBox=\"0.00 0.00 222.00 280.00\" xmlns=\"http://www.w3.org/2000/svg\" xmlns:xlink=\"http://www.w3.org/1999/xlink\">\n",
       "<g id=\"graph0\" class=\"graph\" transform=\"scale(1 1) rotate(0) translate(4 276)\">\n",
       "<title>%3</title>\n",
       "<polygon fill=\"white\" stroke=\"transparent\" points=\"-4,4 -4,-276 218,-276 218,4 -4,4\"/>\n",
       "<!-- 133784690366448 -->\n",
       "<g id=\"node1\" class=\"node\">\n",
       "<title>133784690366448</title>\n",
       "<polygon fill=\"#caff70\" stroke=\"black\" points=\"139,-30 74,-30 74,0 139,0 139,-30\"/>\n",
       "<text text-anchor=\"middle\" x=\"106.5\" y=\"-18\" font-family=\"monospace\" font-size=\"10.00\">yhat</text>\n",
       "<text text-anchor=\"middle\" x=\"106.5\" y=\"-7\" font-family=\"monospace\" font-size=\"10.00\"> (80, 1)</text>\n",
       "</g>\n",
       "<!-- 133784691747008 -->\n",
       "<g id=\"node2\" class=\"node\">\n",
       "<title>133784691747008</title>\n",
       "<polygon fill=\"lightgrey\" stroke=\"black\" points=\"151,-85 62,-85 62,-66 151,-66 151,-85\"/>\n",
       "<text text-anchor=\"middle\" x=\"106.5\" y=\"-73\" font-family=\"monospace\" font-size=\"10.00\">AddBackward0</text>\n",
       "</g>\n",
       "<!-- 133784691747008&#45;&gt;133784690366448 -->\n",
       "<g id=\"edge6\" class=\"edge\">\n",
       "<title>133784691747008&#45;&gt;133784690366448</title>\n",
       "<path fill=\"none\" stroke=\"black\" d=\"M106.5,-65.87C106.5,-59.11 106.5,-49.35 106.5,-40.26\"/>\n",
       "<polygon fill=\"black\" stroke=\"black\" points=\"110,-40.11 106.5,-30.11 103,-40.11 110,-40.11\"/>\n",
       "</g>\n",
       "<!-- 133784691748592 -->\n",
       "<g id=\"node3\" class=\"node\">\n",
       "<title>133784691748592</title>\n",
       "<polygon fill=\"lightgrey\" stroke=\"black\" points=\"101,-140 0,-140 0,-121 101,-121 101,-140\"/>\n",
       "<text text-anchor=\"middle\" x=\"50.5\" y=\"-128\" font-family=\"monospace\" font-size=\"10.00\">AccumulateGrad</text>\n",
       "</g>\n",
       "<!-- 133784691748592&#45;&gt;133784691747008 -->\n",
       "<g id=\"edge1\" class=\"edge\">\n",
       "<title>133784691748592&#45;&gt;133784691747008</title>\n",
       "<path fill=\"none\" stroke=\"black\" d=\"M59.5,-120.98C67.69,-113.23 80.01,-101.58 89.97,-92.14\"/>\n",
       "<polygon fill=\"black\" stroke=\"black\" points=\"92.48,-94.59 97.34,-85.17 87.67,-89.5 92.48,-94.59\"/>\n",
       "</g>\n",
       "<!-- 133785681528880 -->\n",
       "<g id=\"node4\" class=\"node\">\n",
       "<title>133785681528880</title>\n",
       "<polygon fill=\"lightblue\" stroke=\"black\" points=\"77.5,-206 23.5,-206 23.5,-176 77.5,-176 77.5,-206\"/>\n",
       "<text text-anchor=\"middle\" x=\"50.5\" y=\"-194\" font-family=\"monospace\" font-size=\"10.00\">a</text>\n",
       "<text text-anchor=\"middle\" x=\"50.5\" y=\"-183\" font-family=\"monospace\" font-size=\"10.00\"> (1)</text>\n",
       "</g>\n",
       "<!-- 133785681528880&#45;&gt;133784691748592 -->\n",
       "<g id=\"edge2\" class=\"edge\">\n",
       "<title>133785681528880&#45;&gt;133784691748592</title>\n",
       "<path fill=\"none\" stroke=\"black\" d=\"M50.5,-175.84C50.5,-168.21 50.5,-158.7 50.5,-150.45\"/>\n",
       "<polygon fill=\"black\" stroke=\"black\" points=\"54,-150.27 50.5,-140.27 47,-150.27 54,-150.27\"/>\n",
       "</g>\n",
       "<!-- 133784691747344 -->\n",
       "<g id=\"node5\" class=\"node\">\n",
       "<title>133784691747344</title>\n",
       "<polygon fill=\"lightgrey\" stroke=\"black\" points=\"208,-140 119,-140 119,-121 208,-121 208,-140\"/>\n",
       "<text text-anchor=\"middle\" x=\"163.5\" y=\"-128\" font-family=\"monospace\" font-size=\"10.00\">MulBackward0</text>\n",
       "</g>\n",
       "<!-- 133784691747344&#45;&gt;133784691747008 -->\n",
       "<g id=\"edge3\" class=\"edge\">\n",
       "<title>133784691747344&#45;&gt;133784691747008</title>\n",
       "<path fill=\"none\" stroke=\"black\" d=\"M154.34,-120.98C146,-113.23 133.47,-101.58 123.32,-92.14\"/>\n",
       "<polygon fill=\"black\" stroke=\"black\" points=\"125.53,-89.42 115.82,-85.17 120.76,-94.54 125.53,-89.42\"/>\n",
       "</g>\n",
       "<!-- 133784691749264 -->\n",
       "<g id=\"node6\" class=\"node\">\n",
       "<title>133784691749264</title>\n",
       "<polygon fill=\"lightgrey\" stroke=\"black\" points=\"214,-200.5 113,-200.5 113,-181.5 214,-181.5 214,-200.5\"/>\n",
       "<text text-anchor=\"middle\" x=\"163.5\" y=\"-188.5\" font-family=\"monospace\" font-size=\"10.00\">AccumulateGrad</text>\n",
       "</g>\n",
       "<!-- 133784691749264&#45;&gt;133784691747344 -->\n",
       "<g id=\"edge4\" class=\"edge\">\n",
       "<title>133784691749264&#45;&gt;133784691747344</title>\n",
       "<path fill=\"none\" stroke=\"black\" d=\"M163.5,-181.37C163.5,-173.25 163.5,-160.81 163.5,-150.39\"/>\n",
       "<polygon fill=\"black\" stroke=\"black\" points=\"167,-150.17 163.5,-140.17 160,-150.17 167,-150.17\"/>\n",
       "</g>\n",
       "<!-- 133784690453168 -->\n",
       "<g id=\"node7\" class=\"node\">\n",
       "<title>133784690453168</title>\n",
       "<polygon fill=\"lightblue\" stroke=\"black\" points=\"190.5,-272 136.5,-272 136.5,-242 190.5,-242 190.5,-272\"/>\n",
       "<text text-anchor=\"middle\" x=\"163.5\" y=\"-260\" font-family=\"monospace\" font-size=\"10.00\">b</text>\n",
       "<text text-anchor=\"middle\" x=\"163.5\" y=\"-249\" font-family=\"monospace\" font-size=\"10.00\"> (1)</text>\n",
       "</g>\n",
       "<!-- 133784690453168&#45;&gt;133784691749264 -->\n",
       "<g id=\"edge5\" class=\"edge\">\n",
       "<title>133784690453168&#45;&gt;133784691749264</title>\n",
       "<path fill=\"none\" stroke=\"black\" d=\"M163.5,-241.8C163.5,-232.7 163.5,-220.79 163.5,-210.9\"/>\n",
       "<polygon fill=\"black\" stroke=\"black\" points=\"167,-210.84 163.5,-200.84 160,-210.84 167,-210.84\"/>\n",
       "</g>\n",
       "</g>\n",
       "</svg>\n"
      ],
      "text/plain": [
       "<graphviz.graphs.Digraph at 0x79ad2ce9f5d0>"
      ]
     },
     "execution_count": 34,
     "metadata": {},
     "output_type": "execute_result"
    }
   ],
   "source": [
    "from torchviz import make_dot\n",
    "parm_names = {'a': a, 'b': b, 'yhat': yhat, 'error': error, 'loss': loss}\n",
    "make_dot(yhat, parm_names)"
   ]
  },
  {
   "cell_type": "code",
   "execution_count": 35,
   "metadata": {
    "colab": {
     "base_uri": "https://localhost:8080/",
     "height": 467
    },
    "id": "MXh-mvrmycIb",
    "outputId": "57ca0658-b5d9-4a39-eb71-7ebcf5e5197b"
   },
   "outputs": [
    {
     "data": {
      "image/svg+xml": [
       "<?xml version=\"1.0\" encoding=\"UTF-8\" standalone=\"no\"?>\n",
       "<!DOCTYPE svg PUBLIC \"-//W3C//DTD SVG 1.1//EN\"\n",
       " \"http://www.w3.org/Graphics/SVG/1.1/DTD/svg11.dtd\">\n",
       "<!-- Generated by graphviz version 2.43.0 (0)\n",
       " -->\n",
       "<!-- Title: %3 Pages: 1 -->\n",
       "<svg width=\"222pt\" height=\"335pt\"\n",
       " viewBox=\"0.00 0.00 222.00 335.00\" xmlns=\"http://www.w3.org/2000/svg\" xmlns:xlink=\"http://www.w3.org/1999/xlink\">\n",
       "<g id=\"graph0\" class=\"graph\" transform=\"scale(1 1) rotate(0) translate(4 331)\">\n",
       "<title>%3</title>\n",
       "<polygon fill=\"white\" stroke=\"transparent\" points=\"-4,4 -4,-331 218,-331 218,4 -4,4\"/>\n",
       "<!-- 133784690457296 -->\n",
       "<g id=\"node1\" class=\"node\">\n",
       "<title>133784690457296</title>\n",
       "<polygon fill=\"#caff70\" stroke=\"black\" points=\"139,-30 74,-30 74,0 139,0 139,-30\"/>\n",
       "<text text-anchor=\"middle\" x=\"106.5\" y=\"-18\" font-family=\"monospace\" font-size=\"10.00\">error</text>\n",
       "<text text-anchor=\"middle\" x=\"106.5\" y=\"-7\" font-family=\"monospace\" font-size=\"10.00\"> (80, 1)</text>\n",
       "</g>\n",
       "<!-- 133784691750992 -->\n",
       "<g id=\"node2\" class=\"node\">\n",
       "<title>133784691750992</title>\n",
       "<polygon fill=\"lightgrey\" stroke=\"black\" points=\"151,-85 62,-85 62,-66 151,-66 151,-85\"/>\n",
       "<text text-anchor=\"middle\" x=\"106.5\" y=\"-73\" font-family=\"monospace\" font-size=\"10.00\">SubBackward0</text>\n",
       "</g>\n",
       "<!-- 133784691750992&#45;&gt;133784690457296 -->\n",
       "<g id=\"edge7\" class=\"edge\">\n",
       "<title>133784691750992&#45;&gt;133784690457296</title>\n",
       "<path fill=\"none\" stroke=\"black\" d=\"M106.5,-65.87C106.5,-59.11 106.5,-49.35 106.5,-40.26\"/>\n",
       "<polygon fill=\"black\" stroke=\"black\" points=\"110,-40.11 106.5,-30.11 103,-40.11 110,-40.11\"/>\n",
       "</g>\n",
       "<!-- 133784691747008 -->\n",
       "<g id=\"node3\" class=\"node\">\n",
       "<title>133784691747008</title>\n",
       "<polygon fill=\"lightgrey\" stroke=\"black\" points=\"151,-140 62,-140 62,-121 151,-121 151,-140\"/>\n",
       "<text text-anchor=\"middle\" x=\"106.5\" y=\"-128\" font-family=\"monospace\" font-size=\"10.00\">AddBackward0</text>\n",
       "</g>\n",
       "<!-- 133784691747008&#45;&gt;133784691750992 -->\n",
       "<g id=\"edge1\" class=\"edge\">\n",
       "<title>133784691747008&#45;&gt;133784691750992</title>\n",
       "<path fill=\"none\" stroke=\"black\" d=\"M106.5,-120.75C106.5,-113.8 106.5,-103.85 106.5,-95.13\"/>\n",
       "<polygon fill=\"black\" stroke=\"black\" points=\"110,-95.09 106.5,-85.09 103,-95.09 110,-95.09\"/>\n",
       "</g>\n",
       "<!-- 133784691748592 -->\n",
       "<g id=\"node4\" class=\"node\">\n",
       "<title>133784691748592</title>\n",
       "<polygon fill=\"lightgrey\" stroke=\"black\" points=\"101,-195 0,-195 0,-176 101,-176 101,-195\"/>\n",
       "<text text-anchor=\"middle\" x=\"50.5\" y=\"-183\" font-family=\"monospace\" font-size=\"10.00\">AccumulateGrad</text>\n",
       "</g>\n",
       "<!-- 133784691748592&#45;&gt;133784691747008 -->\n",
       "<g id=\"edge2\" class=\"edge\">\n",
       "<title>133784691748592&#45;&gt;133784691747008</title>\n",
       "<path fill=\"none\" stroke=\"black\" d=\"M59.5,-175.98C67.69,-168.23 80.01,-156.58 89.97,-147.14\"/>\n",
       "<polygon fill=\"black\" stroke=\"black\" points=\"92.48,-149.59 97.34,-140.17 87.67,-144.5 92.48,-149.59\"/>\n",
       "</g>\n",
       "<!-- 133785681528880 -->\n",
       "<g id=\"node5\" class=\"node\">\n",
       "<title>133785681528880</title>\n",
       "<polygon fill=\"lightblue\" stroke=\"black\" points=\"77.5,-261 23.5,-261 23.5,-231 77.5,-231 77.5,-261\"/>\n",
       "<text text-anchor=\"middle\" x=\"50.5\" y=\"-249\" font-family=\"monospace\" font-size=\"10.00\">a</text>\n",
       "<text text-anchor=\"middle\" x=\"50.5\" y=\"-238\" font-family=\"monospace\" font-size=\"10.00\"> (1)</text>\n",
       "</g>\n",
       "<!-- 133785681528880&#45;&gt;133784691748592 -->\n",
       "<g id=\"edge3\" class=\"edge\">\n",
       "<title>133785681528880&#45;&gt;133784691748592</title>\n",
       "<path fill=\"none\" stroke=\"black\" d=\"M50.5,-230.84C50.5,-223.21 50.5,-213.7 50.5,-205.45\"/>\n",
       "<polygon fill=\"black\" stroke=\"black\" points=\"54,-205.27 50.5,-195.27 47,-205.27 54,-205.27\"/>\n",
       "</g>\n",
       "<!-- 133784691747344 -->\n",
       "<g id=\"node6\" class=\"node\">\n",
       "<title>133784691747344</title>\n",
       "<polygon fill=\"lightgrey\" stroke=\"black\" points=\"208,-195 119,-195 119,-176 208,-176 208,-195\"/>\n",
       "<text text-anchor=\"middle\" x=\"163.5\" y=\"-183\" font-family=\"monospace\" font-size=\"10.00\">MulBackward0</text>\n",
       "</g>\n",
       "<!-- 133784691747344&#45;&gt;133784691747008 -->\n",
       "<g id=\"edge4\" class=\"edge\">\n",
       "<title>133784691747344&#45;&gt;133784691747008</title>\n",
       "<path fill=\"none\" stroke=\"black\" d=\"M154.34,-175.98C146,-168.23 133.47,-156.58 123.32,-147.14\"/>\n",
       "<polygon fill=\"black\" stroke=\"black\" points=\"125.53,-144.42 115.82,-140.17 120.76,-149.54 125.53,-144.42\"/>\n",
       "</g>\n",
       "<!-- 133784691749264 -->\n",
       "<g id=\"node7\" class=\"node\">\n",
       "<title>133784691749264</title>\n",
       "<polygon fill=\"lightgrey\" stroke=\"black\" points=\"214,-255.5 113,-255.5 113,-236.5 214,-236.5 214,-255.5\"/>\n",
       "<text text-anchor=\"middle\" x=\"163.5\" y=\"-243.5\" font-family=\"monospace\" font-size=\"10.00\">AccumulateGrad</text>\n",
       "</g>\n",
       "<!-- 133784691749264&#45;&gt;133784691747344 -->\n",
       "<g id=\"edge5\" class=\"edge\">\n",
       "<title>133784691749264&#45;&gt;133784691747344</title>\n",
       "<path fill=\"none\" stroke=\"black\" d=\"M163.5,-236.37C163.5,-228.25 163.5,-215.81 163.5,-205.39\"/>\n",
       "<polygon fill=\"black\" stroke=\"black\" points=\"167,-205.17 163.5,-195.17 160,-205.17 167,-205.17\"/>\n",
       "</g>\n",
       "<!-- 133784690453168 -->\n",
       "<g id=\"node8\" class=\"node\">\n",
       "<title>133784690453168</title>\n",
       "<polygon fill=\"lightblue\" stroke=\"black\" points=\"190.5,-327 136.5,-327 136.5,-297 190.5,-297 190.5,-327\"/>\n",
       "<text text-anchor=\"middle\" x=\"163.5\" y=\"-315\" font-family=\"monospace\" font-size=\"10.00\">b</text>\n",
       "<text text-anchor=\"middle\" x=\"163.5\" y=\"-304\" font-family=\"monospace\" font-size=\"10.00\"> (1)</text>\n",
       "</g>\n",
       "<!-- 133784690453168&#45;&gt;133784691749264 -->\n",
       "<g id=\"edge6\" class=\"edge\">\n",
       "<title>133784690453168&#45;&gt;133784691749264</title>\n",
       "<path fill=\"none\" stroke=\"black\" d=\"M163.5,-296.8C163.5,-287.7 163.5,-275.79 163.5,-265.9\"/>\n",
       "<polygon fill=\"black\" stroke=\"black\" points=\"167,-265.84 163.5,-255.84 160,-265.84 167,-265.84\"/>\n",
       "</g>\n",
       "</g>\n",
       "</svg>\n"
      ],
      "text/plain": [
       "<graphviz.graphs.Digraph at 0x79ad2cdc0e50>"
      ]
     },
     "execution_count": 35,
     "metadata": {},
     "output_type": "execute_result"
    }
   ],
   "source": [
    "make_dot(error, params=parm_names)"
   ]
  },
  {
   "cell_type": "code",
   "execution_count": 36,
   "metadata": {
    "colab": {
     "base_uri": "https://localhost:8080/",
     "height": 613
    },
    "id": "Vp-xlneNyeNj",
    "outputId": "f50a65ca-160a-41ae-9164-8c16da2bb372"
   },
   "outputs": [
    {
     "data": {
      "image/svg+xml": [
       "<?xml version=\"1.0\" encoding=\"UTF-8\" standalone=\"no\"?>\n",
       "<!DOCTYPE svg PUBLIC \"-//W3C//DTD SVG 1.1//EN\"\n",
       " \"http://www.w3.org/Graphics/SVG/1.1/DTD/svg11.dtd\">\n",
       "<!-- Generated by graphviz version 2.43.0 (0)\n",
       " -->\n",
       "<!-- Title: %3 Pages: 1 -->\n",
       "<svg width=\"222pt\" height=\"445pt\"\n",
       " viewBox=\"0.00 0.00 222.00 445.00\" xmlns=\"http://www.w3.org/2000/svg\" xmlns:xlink=\"http://www.w3.org/1999/xlink\">\n",
       "<g id=\"graph0\" class=\"graph\" transform=\"scale(1 1) rotate(0) translate(4 441)\">\n",
       "<title>%3</title>\n",
       "<polygon fill=\"white\" stroke=\"transparent\" points=\"-4,4 -4,-441 218,-441 218,4 -4,4\"/>\n",
       "<!-- 133784690002736 -->\n",
       "<g id=\"node1\" class=\"node\">\n",
       "<title>133784690002736</title>\n",
       "<polygon fill=\"#caff70\" stroke=\"black\" points=\"133.5,-30 79.5,-30 79.5,0 133.5,0 133.5,-30\"/>\n",
       "<text text-anchor=\"middle\" x=\"106.5\" y=\"-18\" font-family=\"monospace\" font-size=\"10.00\">loss</text>\n",
       "<text text-anchor=\"middle\" x=\"106.5\" y=\"-7\" font-family=\"monospace\" font-size=\"10.00\"> ()</text>\n",
       "</g>\n",
       "<!-- 133784691748448 -->\n",
       "<g id=\"node2\" class=\"node\">\n",
       "<title>133784691748448</title>\n",
       "<polygon fill=\"lightgrey\" stroke=\"black\" points=\"154,-85 59,-85 59,-66 154,-66 154,-85\"/>\n",
       "<text text-anchor=\"middle\" x=\"106.5\" y=\"-73\" font-family=\"monospace\" font-size=\"10.00\">MeanBackward0</text>\n",
       "</g>\n",
       "<!-- 133784691748448&#45;&gt;133784690002736 -->\n",
       "<g id=\"edge9\" class=\"edge\">\n",
       "<title>133784691748448&#45;&gt;133784690002736</title>\n",
       "<path fill=\"none\" stroke=\"black\" d=\"M106.5,-65.87C106.5,-59.11 106.5,-49.35 106.5,-40.26\"/>\n",
       "<polygon fill=\"black\" stroke=\"black\" points=\"110,-40.11 106.5,-30.11 103,-40.11 110,-40.11\"/>\n",
       "</g>\n",
       "<!-- 133784691749984 -->\n",
       "<g id=\"node3\" class=\"node\">\n",
       "<title>133784691749984</title>\n",
       "<polygon fill=\"lightgrey\" stroke=\"black\" points=\"151,-140 62,-140 62,-121 151,-121 151,-140\"/>\n",
       "<text text-anchor=\"middle\" x=\"106.5\" y=\"-128\" font-family=\"monospace\" font-size=\"10.00\">PowBackward0</text>\n",
       "</g>\n",
       "<!-- 133784691749984&#45;&gt;133784691748448 -->\n",
       "<g id=\"edge1\" class=\"edge\">\n",
       "<title>133784691749984&#45;&gt;133784691748448</title>\n",
       "<path fill=\"none\" stroke=\"black\" d=\"M106.5,-120.75C106.5,-113.8 106.5,-103.85 106.5,-95.13\"/>\n",
       "<polygon fill=\"black\" stroke=\"black\" points=\"110,-95.09 106.5,-85.09 103,-95.09 110,-95.09\"/>\n",
       "</g>\n",
       "<!-- 133784691750992 -->\n",
       "<g id=\"node4\" class=\"node\">\n",
       "<title>133784691750992</title>\n",
       "<polygon fill=\"lightgrey\" stroke=\"black\" points=\"151,-195 62,-195 62,-176 151,-176 151,-195\"/>\n",
       "<text text-anchor=\"middle\" x=\"106.5\" y=\"-183\" font-family=\"monospace\" font-size=\"10.00\">SubBackward0</text>\n",
       "</g>\n",
       "<!-- 133784691750992&#45;&gt;133784691749984 -->\n",
       "<g id=\"edge2\" class=\"edge\">\n",
       "<title>133784691750992&#45;&gt;133784691749984</title>\n",
       "<path fill=\"none\" stroke=\"black\" d=\"M106.5,-175.75C106.5,-168.8 106.5,-158.85 106.5,-150.13\"/>\n",
       "<polygon fill=\"black\" stroke=\"black\" points=\"110,-150.09 106.5,-140.09 103,-150.09 110,-150.09\"/>\n",
       "</g>\n",
       "<!-- 133784691747008 -->\n",
       "<g id=\"node5\" class=\"node\">\n",
       "<title>133784691747008</title>\n",
       "<polygon fill=\"lightgrey\" stroke=\"black\" points=\"151,-250 62,-250 62,-231 151,-231 151,-250\"/>\n",
       "<text text-anchor=\"middle\" x=\"106.5\" y=\"-238\" font-family=\"monospace\" font-size=\"10.00\">AddBackward0</text>\n",
       "</g>\n",
       "<!-- 133784691747008&#45;&gt;133784691750992 -->\n",
       "<g id=\"edge3\" class=\"edge\">\n",
       "<title>133784691747008&#45;&gt;133784691750992</title>\n",
       "<path fill=\"none\" stroke=\"black\" d=\"M106.5,-230.75C106.5,-223.8 106.5,-213.85 106.5,-205.13\"/>\n",
       "<polygon fill=\"black\" stroke=\"black\" points=\"110,-205.09 106.5,-195.09 103,-205.09 110,-205.09\"/>\n",
       "</g>\n",
       "<!-- 133784691748592 -->\n",
       "<g id=\"node6\" class=\"node\">\n",
       "<title>133784691748592</title>\n",
       "<polygon fill=\"lightgrey\" stroke=\"black\" points=\"101,-305 0,-305 0,-286 101,-286 101,-305\"/>\n",
       "<text text-anchor=\"middle\" x=\"50.5\" y=\"-293\" font-family=\"monospace\" font-size=\"10.00\">AccumulateGrad</text>\n",
       "</g>\n",
       "<!-- 133784691748592&#45;&gt;133784691747008 -->\n",
       "<g id=\"edge4\" class=\"edge\">\n",
       "<title>133784691748592&#45;&gt;133784691747008</title>\n",
       "<path fill=\"none\" stroke=\"black\" d=\"M59.5,-285.98C67.69,-278.23 80.01,-266.58 89.97,-257.14\"/>\n",
       "<polygon fill=\"black\" stroke=\"black\" points=\"92.48,-259.59 97.34,-250.17 87.67,-254.5 92.48,-259.59\"/>\n",
       "</g>\n",
       "<!-- 133785681528880 -->\n",
       "<g id=\"node7\" class=\"node\">\n",
       "<title>133785681528880</title>\n",
       "<polygon fill=\"lightblue\" stroke=\"black\" points=\"77.5,-371 23.5,-371 23.5,-341 77.5,-341 77.5,-371\"/>\n",
       "<text text-anchor=\"middle\" x=\"50.5\" y=\"-359\" font-family=\"monospace\" font-size=\"10.00\">a</text>\n",
       "<text text-anchor=\"middle\" x=\"50.5\" y=\"-348\" font-family=\"monospace\" font-size=\"10.00\"> (1)</text>\n",
       "</g>\n",
       "<!-- 133785681528880&#45;&gt;133784691748592 -->\n",
       "<g id=\"edge5\" class=\"edge\">\n",
       "<title>133785681528880&#45;&gt;133784691748592</title>\n",
       "<path fill=\"none\" stroke=\"black\" d=\"M50.5,-340.84C50.5,-333.21 50.5,-323.7 50.5,-315.45\"/>\n",
       "<polygon fill=\"black\" stroke=\"black\" points=\"54,-315.27 50.5,-305.27 47,-315.27 54,-315.27\"/>\n",
       "</g>\n",
       "<!-- 133784691747344 -->\n",
       "<g id=\"node8\" class=\"node\">\n",
       "<title>133784691747344</title>\n",
       "<polygon fill=\"lightgrey\" stroke=\"black\" points=\"208,-305 119,-305 119,-286 208,-286 208,-305\"/>\n",
       "<text text-anchor=\"middle\" x=\"163.5\" y=\"-293\" font-family=\"monospace\" font-size=\"10.00\">MulBackward0</text>\n",
       "</g>\n",
       "<!-- 133784691747344&#45;&gt;133784691747008 -->\n",
       "<g id=\"edge6\" class=\"edge\">\n",
       "<title>133784691747344&#45;&gt;133784691747008</title>\n",
       "<path fill=\"none\" stroke=\"black\" d=\"M154.34,-285.98C146,-278.23 133.47,-266.58 123.32,-257.14\"/>\n",
       "<polygon fill=\"black\" stroke=\"black\" points=\"125.53,-254.42 115.82,-250.17 120.76,-259.54 125.53,-254.42\"/>\n",
       "</g>\n",
       "<!-- 133784691749264 -->\n",
       "<g id=\"node9\" class=\"node\">\n",
       "<title>133784691749264</title>\n",
       "<polygon fill=\"lightgrey\" stroke=\"black\" points=\"214,-365.5 113,-365.5 113,-346.5 214,-346.5 214,-365.5\"/>\n",
       "<text text-anchor=\"middle\" x=\"163.5\" y=\"-353.5\" font-family=\"monospace\" font-size=\"10.00\">AccumulateGrad</text>\n",
       "</g>\n",
       "<!-- 133784691749264&#45;&gt;133784691747344 -->\n",
       "<g id=\"edge7\" class=\"edge\">\n",
       "<title>133784691749264&#45;&gt;133784691747344</title>\n",
       "<path fill=\"none\" stroke=\"black\" d=\"M163.5,-346.37C163.5,-338.25 163.5,-325.81 163.5,-315.39\"/>\n",
       "<polygon fill=\"black\" stroke=\"black\" points=\"167,-315.17 163.5,-305.17 160,-315.17 167,-315.17\"/>\n",
       "</g>\n",
       "<!-- 133784690453168 -->\n",
       "<g id=\"node10\" class=\"node\">\n",
       "<title>133784690453168</title>\n",
       "<polygon fill=\"lightblue\" stroke=\"black\" points=\"190.5,-437 136.5,-437 136.5,-407 190.5,-407 190.5,-437\"/>\n",
       "<text text-anchor=\"middle\" x=\"163.5\" y=\"-425\" font-family=\"monospace\" font-size=\"10.00\">b</text>\n",
       "<text text-anchor=\"middle\" x=\"163.5\" y=\"-414\" font-family=\"monospace\" font-size=\"10.00\"> (1)</text>\n",
       "</g>\n",
       "<!-- 133784690453168&#45;&gt;133784691749264 -->\n",
       "<g id=\"edge8\" class=\"edge\">\n",
       "<title>133784690453168&#45;&gt;133784691749264</title>\n",
       "<path fill=\"none\" stroke=\"black\" d=\"M163.5,-406.8C163.5,-397.7 163.5,-385.79 163.5,-375.9\"/>\n",
       "<polygon fill=\"black\" stroke=\"black\" points=\"167,-375.84 163.5,-365.84 160,-375.84 167,-375.84\"/>\n",
       "</g>\n",
       "</g>\n",
       "</svg>\n"
      ],
      "text/plain": [
       "<graphviz.graphs.Digraph at 0x79ad2cdc1410>"
      ]
     },
     "execution_count": 36,
     "metadata": {},
     "output_type": "execute_result"
    }
   ],
   "source": [
    "make_dot(loss, params=parm_names)"
   ]
  },
  {
   "cell_type": "code",
   "execution_count": 39,
   "metadata": {
    "id": "FbHprOyhkOZt"
   },
   "outputs": [],
   "source": [
    "a_nograd = torch.randn(1, requires_grad=False, dtype=torch.float, device=device)\n",
    "b = torch.randn(1, requires_grad=True, dtype=torch.float, device=device)\n",
    "yhat2 = a_nograd + b * x_train_tensor\n",
    "parm_names = {'a_nograd': a_nograd, 'b': b, 'yhat2': yhat2}"
   ]
  },
  {
   "cell_type": "code",
   "execution_count": 40,
   "metadata": {
    "colab": {
     "base_uri": "https://localhost:8080/",
     "height": 379
    },
    "id": "tti1f-DKkVgt",
    "outputId": "9713c51b-1142-43da-b5db-a0b9d68e963c"
   },
   "outputs": [
    {
     "data": {
      "image/svg+xml": [
       "<?xml version=\"1.0\" encoding=\"UTF-8\" standalone=\"no\"?>\n",
       "<!DOCTYPE svg PUBLIC \"-//W3C//DTD SVG 1.1//EN\"\n",
       " \"http://www.w3.org/Graphics/SVG/1.1/DTD/svg11.dtd\">\n",
       "<!-- Generated by graphviz version 2.43.0 (0)\n",
       " -->\n",
       "<!-- Title: %3 Pages: 1 -->\n",
       "<svg width=\"109pt\" height=\"269pt\"\n",
       " viewBox=\"0.00 0.00 109.00 269.00\" xmlns=\"http://www.w3.org/2000/svg\" xmlns:xlink=\"http://www.w3.org/1999/xlink\">\n",
       "<g id=\"graph0\" class=\"graph\" transform=\"scale(1 1) rotate(0) translate(4 265)\">\n",
       "<title>%3</title>\n",
       "<polygon fill=\"white\" stroke=\"transparent\" points=\"-4,4 -4,-265 105,-265 105,4 -4,4\"/>\n",
       "<!-- 133784690011856 -->\n",
       "<g id=\"node1\" class=\"node\">\n",
       "<title>133784690011856</title>\n",
       "<polygon fill=\"#caff70\" stroke=\"black\" points=\"83,-30 18,-30 18,0 83,0 83,-30\"/>\n",
       "<text text-anchor=\"middle\" x=\"50.5\" y=\"-18\" font-family=\"monospace\" font-size=\"10.00\">yhat2</text>\n",
       "<text text-anchor=\"middle\" x=\"50.5\" y=\"-7\" font-family=\"monospace\" font-size=\"10.00\"> (80, 1)</text>\n",
       "</g>\n",
       "<!-- 133784705681872 -->\n",
       "<g id=\"node2\" class=\"node\">\n",
       "<title>133784705681872</title>\n",
       "<polygon fill=\"lightgrey\" stroke=\"black\" points=\"95,-85 6,-85 6,-66 95,-66 95,-85\"/>\n",
       "<text text-anchor=\"middle\" x=\"50.5\" y=\"-73\" font-family=\"monospace\" font-size=\"10.00\">AddBackward0</text>\n",
       "</g>\n",
       "<!-- 133784705681872&#45;&gt;133784690011856 -->\n",
       "<g id=\"edge4\" class=\"edge\">\n",
       "<title>133784705681872&#45;&gt;133784690011856</title>\n",
       "<path fill=\"none\" stroke=\"black\" d=\"M50.5,-65.87C50.5,-59.11 50.5,-49.35 50.5,-40.26\"/>\n",
       "<polygon fill=\"black\" stroke=\"black\" points=\"54,-40.11 50.5,-30.11 47,-40.11 54,-40.11\"/>\n",
       "</g>\n",
       "<!-- 133784705686096 -->\n",
       "<g id=\"node3\" class=\"node\">\n",
       "<title>133784705686096</title>\n",
       "<polygon fill=\"lightgrey\" stroke=\"black\" points=\"95,-140 6,-140 6,-121 95,-121 95,-140\"/>\n",
       "<text text-anchor=\"middle\" x=\"50.5\" y=\"-128\" font-family=\"monospace\" font-size=\"10.00\">MulBackward0</text>\n",
       "</g>\n",
       "<!-- 133784705686096&#45;&gt;133784705681872 -->\n",
       "<g id=\"edge1\" class=\"edge\">\n",
       "<title>133784705686096&#45;&gt;133784705681872</title>\n",
       "<path fill=\"none\" stroke=\"black\" d=\"M50.5,-120.75C50.5,-113.8 50.5,-103.85 50.5,-95.13\"/>\n",
       "<polygon fill=\"black\" stroke=\"black\" points=\"54,-95.09 50.5,-85.09 47,-95.09 54,-95.09\"/>\n",
       "</g>\n",
       "<!-- 133784705680912 -->\n",
       "<g id=\"node4\" class=\"node\">\n",
       "<title>133784705680912</title>\n",
       "<polygon fill=\"lightgrey\" stroke=\"black\" points=\"101,-195 0,-195 0,-176 101,-176 101,-195\"/>\n",
       "<text text-anchor=\"middle\" x=\"50.5\" y=\"-183\" font-family=\"monospace\" font-size=\"10.00\">AccumulateGrad</text>\n",
       "</g>\n",
       "<!-- 133784705680912&#45;&gt;133784705686096 -->\n",
       "<g id=\"edge2\" class=\"edge\">\n",
       "<title>133784705680912&#45;&gt;133784705686096</title>\n",
       "<path fill=\"none\" stroke=\"black\" d=\"M50.5,-175.75C50.5,-168.8 50.5,-158.85 50.5,-150.13\"/>\n",
       "<polygon fill=\"black\" stroke=\"black\" points=\"54,-150.09 50.5,-140.09 47,-150.09 54,-150.09\"/>\n",
       "</g>\n",
       "<!-- 133784690001392 -->\n",
       "<g id=\"node5\" class=\"node\">\n",
       "<title>133784690001392</title>\n",
       "<polygon fill=\"lightblue\" stroke=\"black\" points=\"77.5,-261 23.5,-261 23.5,-231 77.5,-231 77.5,-261\"/>\n",
       "<text text-anchor=\"middle\" x=\"50.5\" y=\"-249\" font-family=\"monospace\" font-size=\"10.00\">b</text>\n",
       "<text text-anchor=\"middle\" x=\"50.5\" y=\"-238\" font-family=\"monospace\" font-size=\"10.00\"> (1)</text>\n",
       "</g>\n",
       "<!-- 133784690001392&#45;&gt;133784705680912 -->\n",
       "<g id=\"edge3\" class=\"edge\">\n",
       "<title>133784690001392&#45;&gt;133784705680912</title>\n",
       "<path fill=\"none\" stroke=\"black\" d=\"M50.5,-230.84C50.5,-223.21 50.5,-213.7 50.5,-205.45\"/>\n",
       "<polygon fill=\"black\" stroke=\"black\" points=\"54,-205.27 50.5,-195.27 47,-205.27 54,-205.27\"/>\n",
       "</g>\n",
       "</g>\n",
       "</svg>\n"
      ],
      "text/plain": [
       "<graphviz.graphs.Digraph at 0x79ad2cf1c390>"
      ]
     },
     "execution_count": 40,
     "metadata": {},
     "output_type": "execute_result"
    }
   ],
   "source": [
    "make_dot(yhat2, params=parm_names)"
   ]
  },
  {
   "cell_type": "code",
   "execution_count": 41,
   "metadata": {
    "id": "zOUwFucYzb4U"
   },
   "outputs": [],
   "source": [
    "a = torch.randn(1, requires_grad=True, dtype=torch.float, device=device)\n",
    "b = torch.randn(1, requires_grad=True, dtype=torch.float, device=device)\n",
    "yhat = a + b * x_train_tensor\n",
    "error = y_train_tensor - yhat\n",
    "loss = (error ** 2).mean()\n",
    "\n",
    "if loss > 0:\n",
    "    yhat2 = b * x_train_tensor\n",
    "    error2 = y_train_tensor - yhat2\n",
    "loss += error2.mean()\n",
    "\n",
    "parm_names = {'a': a, 'b': b, 'yhat': yhat, 'error': error, 'loss': loss, 'yhat2': yhat2, 'error2': error2}"
   ]
  },
  {
   "cell_type": "code",
   "execution_count": 42,
   "metadata": {
    "colab": {
     "base_uri": "https://localhost:8080/",
     "height": 687
    },
    "id": "ZLCJ692Fzvet",
    "outputId": "6d52d102-61cd-46d3-aa37-5d38f2d38b89"
   },
   "outputs": [
    {
     "data": {
      "image/svg+xml": [
       "<?xml version=\"1.0\" encoding=\"UTF-8\" standalone=\"no\"?>\n",
       "<!DOCTYPE svg PUBLIC \"-//W3C//DTD SVG 1.1//EN\"\n",
       " \"http://www.w3.org/Graphics/SVG/1.1/DTD/svg11.dtd\">\n",
       "<!-- Generated by graphviz version 2.43.0 (0)\n",
       " -->\n",
       "<!-- Title: %3 Pages: 1 -->\n",
       "<svg width=\"326pt\" height=\"500pt\"\n",
       " viewBox=\"0.00 0.00 326.00 500.00\" xmlns=\"http://www.w3.org/2000/svg\" xmlns:xlink=\"http://www.w3.org/1999/xlink\">\n",
       "<g id=\"graph0\" class=\"graph\" transform=\"scale(1 1) rotate(0) translate(4 496)\">\n",
       "<title>%3</title>\n",
       "<polygon fill=\"white\" stroke=\"transparent\" points=\"-4,4 -4,-496 322,-496 322,4 -4,4\"/>\n",
       "<!-- 133784690005712 -->\n",
       "<g id=\"node1\" class=\"node\">\n",
       "<title>133784690005712</title>\n",
       "<polygon fill=\"#caff70\" stroke=\"black\" points=\"242.5,-30 188.5,-30 188.5,0 242.5,0 242.5,-30\"/>\n",
       "<text text-anchor=\"middle\" x=\"215.5\" y=\"-18\" font-family=\"monospace\" font-size=\"10.00\">loss</text>\n",
       "<text text-anchor=\"middle\" x=\"215.5\" y=\"-7\" font-family=\"monospace\" font-size=\"10.00\"> ()</text>\n",
       "</g>\n",
       "<!-- 133784691749408 -->\n",
       "<g id=\"node2\" class=\"node\">\n",
       "<title>133784691749408</title>\n",
       "<polygon fill=\"lightgrey\" stroke=\"black\" points=\"260,-85 171,-85 171,-66 260,-66 260,-85\"/>\n",
       "<text text-anchor=\"middle\" x=\"215.5\" y=\"-73\" font-family=\"monospace\" font-size=\"10.00\">AddBackward0</text>\n",
       "</g>\n",
       "<!-- 133784691749408&#45;&gt;133784690005712 -->\n",
       "<g id=\"edge14\" class=\"edge\">\n",
       "<title>133784691749408&#45;&gt;133784690005712</title>\n",
       "<path fill=\"none\" stroke=\"black\" d=\"M215.5,-65.87C215.5,-59.11 215.5,-49.35 215.5,-40.26\"/>\n",
       "<polygon fill=\"black\" stroke=\"black\" points=\"219,-40.11 215.5,-30.11 212,-40.11 219,-40.11\"/>\n",
       "</g>\n",
       "<!-- 133784691747584 -->\n",
       "<g id=\"node3\" class=\"node\">\n",
       "<title>133784691747584</title>\n",
       "<polygon fill=\"lightgrey\" stroke=\"black\" points=\"225,-140 130,-140 130,-121 225,-121 225,-140\"/>\n",
       "<text text-anchor=\"middle\" x=\"177.5\" y=\"-128\" font-family=\"monospace\" font-size=\"10.00\">MeanBackward0</text>\n",
       "</g>\n",
       "<!-- 133784691747584&#45;&gt;133784691749408 -->\n",
       "<g id=\"edge1\" class=\"edge\">\n",
       "<title>133784691747584&#45;&gt;133784691749408</title>\n",
       "<path fill=\"none\" stroke=\"black\" d=\"M183.77,-120.75C189.09,-113.34 196.86,-102.5 203.38,-93.41\"/>\n",
       "<polygon fill=\"black\" stroke=\"black\" points=\"206.36,-95.26 209.34,-85.09 200.67,-91.18 206.36,-95.26\"/>\n",
       "</g>\n",
       "<!-- 133784691750512 -->\n",
       "<g id=\"node4\" class=\"node\">\n",
       "<title>133784691750512</title>\n",
       "<polygon fill=\"lightgrey\" stroke=\"black\" points=\"205,-195 116,-195 116,-176 205,-176 205,-195\"/>\n",
       "<text text-anchor=\"middle\" x=\"160.5\" y=\"-183\" font-family=\"monospace\" font-size=\"10.00\">PowBackward0</text>\n",
       "</g>\n",
       "<!-- 133784691750512&#45;&gt;133784691747584 -->\n",
       "<g id=\"edge2\" class=\"edge\">\n",
       "<title>133784691750512&#45;&gt;133784691747584</title>\n",
       "<path fill=\"none\" stroke=\"black\" d=\"M163.31,-175.75C165.56,-168.72 168.8,-158.62 171.62,-149.84\"/>\n",
       "<polygon fill=\"black\" stroke=\"black\" points=\"175.02,-150.68 174.75,-140.09 168.36,-148.54 175.02,-150.68\"/>\n",
       "</g>\n",
       "<!-- 133784691752720 -->\n",
       "<g id=\"node5\" class=\"node\">\n",
       "<title>133784691752720</title>\n",
       "<polygon fill=\"lightgrey\" stroke=\"black\" points=\"205,-250 116,-250 116,-231 205,-231 205,-250\"/>\n",
       "<text text-anchor=\"middle\" x=\"160.5\" y=\"-238\" font-family=\"monospace\" font-size=\"10.00\">SubBackward0</text>\n",
       "</g>\n",
       "<!-- 133784691752720&#45;&gt;133784691750512 -->\n",
       "<g id=\"edge3\" class=\"edge\">\n",
       "<title>133784691752720&#45;&gt;133784691750512</title>\n",
       "<path fill=\"none\" stroke=\"black\" d=\"M160.5,-230.75C160.5,-223.8 160.5,-213.85 160.5,-205.13\"/>\n",
       "<polygon fill=\"black\" stroke=\"black\" points=\"164,-205.09 160.5,-195.09 157,-205.09 164,-205.09\"/>\n",
       "</g>\n",
       "<!-- 133784691749456 -->\n",
       "<g id=\"node6\" class=\"node\">\n",
       "<title>133784691749456</title>\n",
       "<polygon fill=\"lightgrey\" stroke=\"black\" points=\"205,-305 116,-305 116,-286 205,-286 205,-305\"/>\n",
       "<text text-anchor=\"middle\" x=\"160.5\" y=\"-293\" font-family=\"monospace\" font-size=\"10.00\">AddBackward0</text>\n",
       "</g>\n",
       "<!-- 133784691749456&#45;&gt;133784691752720 -->\n",
       "<g id=\"edge4\" class=\"edge\">\n",
       "<title>133784691749456&#45;&gt;133784691752720</title>\n",
       "<path fill=\"none\" stroke=\"black\" d=\"M160.5,-285.75C160.5,-278.8 160.5,-268.85 160.5,-260.13\"/>\n",
       "<polygon fill=\"black\" stroke=\"black\" points=\"164,-260.09 160.5,-250.09 157,-260.09 164,-260.09\"/>\n",
       "</g>\n",
       "<!-- 133784691748112 -->\n",
       "<g id=\"node7\" class=\"node\">\n",
       "<title>133784691748112</title>\n",
       "<polygon fill=\"lightgrey\" stroke=\"black\" points=\"101,-360 0,-360 0,-341 101,-341 101,-360\"/>\n",
       "<text text-anchor=\"middle\" x=\"50.5\" y=\"-348\" font-family=\"monospace\" font-size=\"10.00\">AccumulateGrad</text>\n",
       "</g>\n",
       "<!-- 133784691748112&#45;&gt;133784691749456 -->\n",
       "<g id=\"edge5\" class=\"edge\">\n",
       "<title>133784691748112&#45;&gt;133784691749456</title>\n",
       "<path fill=\"none\" stroke=\"black\" d=\"M68.17,-340.98C85.79,-332.5 113.08,-319.35 133.43,-309.54\"/>\n",
       "<polygon fill=\"black\" stroke=\"black\" points=\"135.02,-312.66 142.51,-305.17 131.98,-306.36 135.02,-312.66\"/>\n",
       "</g>\n",
       "<!-- 133784690014832 -->\n",
       "<g id=\"node8\" class=\"node\">\n",
       "<title>133784690014832</title>\n",
       "<polygon fill=\"lightblue\" stroke=\"black\" points=\"77.5,-426 23.5,-426 23.5,-396 77.5,-396 77.5,-426\"/>\n",
       "<text text-anchor=\"middle\" x=\"50.5\" y=\"-414\" font-family=\"monospace\" font-size=\"10.00\">a</text>\n",
       "<text text-anchor=\"middle\" x=\"50.5\" y=\"-403\" font-family=\"monospace\" font-size=\"10.00\"> (1)</text>\n",
       "</g>\n",
       "<!-- 133784690014832&#45;&gt;133784691748112 -->\n",
       "<g id=\"edge6\" class=\"edge\">\n",
       "<title>133784690014832&#45;&gt;133784691748112</title>\n",
       "<path fill=\"none\" stroke=\"black\" d=\"M50.5,-395.84C50.5,-388.21 50.5,-378.7 50.5,-370.45\"/>\n",
       "<polygon fill=\"black\" stroke=\"black\" points=\"54,-370.27 50.5,-360.27 47,-370.27 54,-370.27\"/>\n",
       "</g>\n",
       "<!-- 133784691749744 -->\n",
       "<g id=\"node9\" class=\"node\">\n",
       "<title>133784691749744</title>\n",
       "<polygon fill=\"lightgrey\" stroke=\"black\" points=\"208,-360 119,-360 119,-341 208,-341 208,-360\"/>\n",
       "<text text-anchor=\"middle\" x=\"163.5\" y=\"-348\" font-family=\"monospace\" font-size=\"10.00\">MulBackward0</text>\n",
       "</g>\n",
       "<!-- 133784691749744&#45;&gt;133784691749456 -->\n",
       "<g id=\"edge7\" class=\"edge\">\n",
       "<title>133784691749744&#45;&gt;133784691749456</title>\n",
       "<path fill=\"none\" stroke=\"black\" d=\"M163,-340.75C162.61,-333.8 162.05,-323.85 161.55,-315.13\"/>\n",
       "<polygon fill=\"black\" stroke=\"black\" points=\"165.05,-314.88 160.99,-305.09 158.06,-315.27 165.05,-314.88\"/>\n",
       "</g>\n",
       "<!-- 133784691747152 -->\n",
       "<g id=\"node10\" class=\"node\">\n",
       "<title>133784691747152</title>\n",
       "<polygon fill=\"lightgrey\" stroke=\"black\" points=\"267,-420.5 166,-420.5 166,-401.5 267,-401.5 267,-420.5\"/>\n",
       "<text text-anchor=\"middle\" x=\"216.5\" y=\"-408.5\" font-family=\"monospace\" font-size=\"10.00\">AccumulateGrad</text>\n",
       "</g>\n",
       "<!-- 133784691747152&#45;&gt;133784691749744 -->\n",
       "<g id=\"edge8\" class=\"edge\">\n",
       "<title>133784691747152&#45;&gt;133784691749744</title>\n",
       "<path fill=\"none\" stroke=\"black\" d=\"M208.68,-401.37C200.69,-392.55 188.11,-378.66 178.24,-367.77\"/>\n",
       "<polygon fill=\"black\" stroke=\"black\" points=\"180.66,-365.23 171.35,-360.17 175.47,-369.93 180.66,-365.23\"/>\n",
       "</g>\n",
       "<!-- 133784691749360 -->\n",
       "<g id=\"node14\" class=\"node\">\n",
       "<title>133784691749360</title>\n",
       "<polygon fill=\"lightgrey\" stroke=\"black\" points=\"315,-360 226,-360 226,-341 315,-341 315,-360\"/>\n",
       "<text text-anchor=\"middle\" x=\"270.5\" y=\"-348\" font-family=\"monospace\" font-size=\"10.00\">MulBackward0</text>\n",
       "</g>\n",
       "<!-- 133784691747152&#45;&gt;133784691749360 -->\n",
       "<g id=\"edge13\" class=\"edge\">\n",
       "<title>133784691747152&#45;&gt;133784691749360</title>\n",
       "<path fill=\"none\" stroke=\"black\" d=\"M224.47,-401.37C232.6,-392.55 245.43,-378.66 255.48,-367.77\"/>\n",
       "<polygon fill=\"black\" stroke=\"black\" points=\"258.29,-369.89 262.5,-360.17 253.14,-365.14 258.29,-369.89\"/>\n",
       "</g>\n",
       "<!-- 133784690015504 -->\n",
       "<g id=\"node11\" class=\"node\">\n",
       "<title>133784690015504</title>\n",
       "<polygon fill=\"lightblue\" stroke=\"black\" points=\"243.5,-492 189.5,-492 189.5,-462 243.5,-462 243.5,-492\"/>\n",
       "<text text-anchor=\"middle\" x=\"216.5\" y=\"-480\" font-family=\"monospace\" font-size=\"10.00\">b</text>\n",
       "<text text-anchor=\"middle\" x=\"216.5\" y=\"-469\" font-family=\"monospace\" font-size=\"10.00\"> (1)</text>\n",
       "</g>\n",
       "<!-- 133784690015504&#45;&gt;133784691747152 -->\n",
       "<g id=\"edge9\" class=\"edge\">\n",
       "<title>133784690015504&#45;&gt;133784691747152</title>\n",
       "<path fill=\"none\" stroke=\"black\" d=\"M216.5,-461.8C216.5,-452.7 216.5,-440.79 216.5,-430.9\"/>\n",
       "<polygon fill=\"black\" stroke=\"black\" points=\"220,-430.84 216.5,-420.84 213,-430.84 220,-430.84\"/>\n",
       "</g>\n",
       "<!-- 133784691747008 -->\n",
       "<g id=\"node12\" class=\"node\">\n",
       "<title>133784691747008</title>\n",
       "<polygon fill=\"lightgrey\" stroke=\"black\" points=\"318,-195 223,-195 223,-176 318,-176 318,-195\"/>\n",
       "<text text-anchor=\"middle\" x=\"270.5\" y=\"-183\" font-family=\"monospace\" font-size=\"10.00\">MeanBackward0</text>\n",
       "</g>\n",
       "<!-- 133784691747008&#45;&gt;133784691749408 -->\n",
       "<g id=\"edge10\" class=\"edge\">\n",
       "<title>133784691747008&#45;&gt;133784691749408</title>\n",
       "<path fill=\"none\" stroke=\"black\" d=\"M266,-175.66C256.97,-157.93 236.5,-117.73 224.57,-94.32\"/>\n",
       "<polygon fill=\"black\" stroke=\"black\" points=\"227.57,-92.48 219.91,-85.16 221.33,-95.66 227.57,-92.48\"/>\n",
       "</g>\n",
       "<!-- 133784691748064 -->\n",
       "<g id=\"node13\" class=\"node\">\n",
       "<title>133784691748064</title>\n",
       "<polygon fill=\"lightgrey\" stroke=\"black\" points=\"315,-305 226,-305 226,-286 315,-286 315,-305\"/>\n",
       "<text text-anchor=\"middle\" x=\"270.5\" y=\"-293\" font-family=\"monospace\" font-size=\"10.00\">SubBackward0</text>\n",
       "</g>\n",
       "<!-- 133784691748064&#45;&gt;133784691747008 -->\n",
       "<g id=\"edge11\" class=\"edge\">\n",
       "<title>133784691748064&#45;&gt;133784691747008</title>\n",
       "<path fill=\"none\" stroke=\"black\" d=\"M270.5,-285.66C270.5,-268.17 270.5,-228.8 270.5,-205.27\"/>\n",
       "<polygon fill=\"black\" stroke=\"black\" points=\"274,-205.16 270.5,-195.16 267,-205.16 274,-205.16\"/>\n",
       "</g>\n",
       "<!-- 133784691749360&#45;&gt;133784691748064 -->\n",
       "<g id=\"edge12\" class=\"edge\">\n",
       "<title>133784691749360&#45;&gt;133784691748064</title>\n",
       "<path fill=\"none\" stroke=\"black\" d=\"M270.5,-340.75C270.5,-333.8 270.5,-323.85 270.5,-315.13\"/>\n",
       "<polygon fill=\"black\" stroke=\"black\" points=\"274,-315.09 270.5,-305.09 267,-315.09 274,-315.09\"/>\n",
       "</g>\n",
       "</g>\n",
       "</svg>\n"
      ],
      "text/plain": [
       "<graphviz.graphs.Digraph at 0x79ad2ce9f490>"
      ]
     },
     "execution_count": 42,
     "metadata": {},
     "output_type": "execute_result"
    }
   ],
   "source": [
    "make_dot(loss, params=parm_names)"
   ]
  },
  {
   "cell_type": "markdown",
   "metadata": {
    "id": "Ovx0IFrYkg5_"
   },
   "source": [
    "## Optimizer"
   ]
  },
  {
   "cell_type": "code",
   "execution_count": null,
   "metadata": {
    "colab": {
     "base_uri": "https://localhost:8080/"
    },
    "id": "t728s9SjkXK5",
    "outputId": "54216a66-dd8a-41d1-e8c4-9dd7713d84ce"
   },
   "outputs": [
    {
     "name": "stdout",
     "output_type": "stream",
     "text": [
      "tensor([0.1940], device='cuda:0', requires_grad=True) tensor([0.1391], device='cuda:0', requires_grad=True)\n",
      "tensor([1.0235], device='cuda:0', requires_grad=True) tensor([1.9690], device='cuda:0', requires_grad=True)\n"
     ]
    }
   ],
   "source": [
    "torch.manual_seed(42)\n",
    "a = torch.randn(1, requires_grad=True, dtype=torch.float, device=device)\n",
    "b = torch.randn(1, requires_grad=True, dtype=torch.float, device=device)\n",
    "print(a, b)\n",
    "\n",
    "lr = 1e-1\n",
    "n_epochs = 1000\n",
    "\n",
    "# Defines a SGD optimizer to update the parameters\n",
    "optimizer = optim.SGD([a, b], lr=lr)\n",
    "\n",
    "for epoch in range(n_epochs):\n",
    "    # Step 1\n",
    "    yhat = a + b * x_train_tensor\n",
    "    # Step 2\n",
    "    error = y_train_tensor - yhat\n",
    "    loss = (error ** 2).mean()\n",
    "    # Step 3\n",
    "    loss.backward()\n",
    "\n",
    "    # No more manual update!\n",
    "    # with torch.no_grad():\n",
    "    #     a -= lr * a.grad\n",
    "    #     b -= lr * b.grad\n",
    "    # Step 4\n",
    "    optimizer.step()\n",
    "\n",
    "    # No more telling PyTorch to let gradients go!\n",
    "    # a.grad.zero_()\n",
    "    # b.grad.zero_()\n",
    "    optimizer.zero_grad()\n",
    "\n",
    "print(a, b)"
   ]
  },
  {
   "cell_type": "markdown",
   "metadata": {
    "id": "yjzWQc-oklGu"
   },
   "source": [
    "## Loss"
   ]
  },
  {
   "cell_type": "code",
   "execution_count": null,
   "metadata": {
    "colab": {
     "base_uri": "https://localhost:8080/"
    },
    "id": "QL9ITaY8kiHk",
    "outputId": "19b3bf1d-e255-4f6b-eaee-d00db037065d"
   },
   "outputs": [
    {
     "name": "stdout",
     "output_type": "stream",
     "text": [
      "tensor([0.1940], device='cuda:0', requires_grad=True) tensor([0.1391], device='cuda:0', requires_grad=True)\n",
      "tensor([1.0235], device='cuda:0', requires_grad=True) tensor([1.9690], device='cuda:0', requires_grad=True)\n"
     ]
    }
   ],
   "source": [
    "torch.manual_seed(42)\n",
    "a = torch.randn(1, requires_grad=True, dtype=torch.float, device=device)\n",
    "b = torch.randn(1, requires_grad=True, dtype=torch.float, device=device)\n",
    "print(a, b)\n",
    "\n",
    "lr = 1e-1\n",
    "n_epochs = 1000\n",
    "\n",
    "# Defines a MSE loss function\n",
    "loss_fn = nn.MSELoss(reduction='mean')\n",
    "\n",
    "optimizer = optim.SGD([a, b], lr=lr)\n",
    "\n",
    "for epoch in range(n_epochs):\n",
    "    # Step 1\n",
    "    yhat = a + b * x_train_tensor\n",
    "    # No more manual loss!\n",
    "    # error = y_tensor - yhat\n",
    "    # loss = (error ** 2).mean()\n",
    "    # Step 2\n",
    "    loss = loss_fn(y_train_tensor, yhat)   # Line 20\n",
    "    # Step 3\n",
    "    loss.backward()\n",
    "    # Step 4\n",
    "    optimizer.step()\n",
    "    optimizer.zero_grad()\n",
    "\n",
    "print(a, b)"
   ]
  },
  {
   "cell_type": "markdown",
   "metadata": {
    "id": "Q4v6oFczkoj4"
   },
   "source": [
    "## Model"
   ]
  },
  {
   "cell_type": "code",
   "execution_count": null,
   "metadata": {
    "id": "F0yYXMlckl9k"
   },
   "outputs": [],
   "source": [
    "class ManualLinearRegression(nn.Module):\n",
    "    def __init__(self):\n",
    "        super().__init__()\n",
    "        # To make \"a\" and \"b\" real parameters of the model, we need to wrap them with nn.Parameter\n",
    "        self.a = nn.Parameter(torch.randn(1, requires_grad=True, dtype=torch.float))\n",
    "        self.b = nn.Parameter(torch.randn(1, requires_grad=True, dtype=torch.float))\n",
    "\n",
    "    def forward(self, x):\n",
    "        # Computes the outputs / predictions\n",
    "        return self.a + self.b * x"
   ]
  },
  {
   "cell_type": "code",
   "execution_count": null,
   "metadata": {
    "colab": {
     "base_uri": "https://localhost:8080/"
    },
    "id": "F_0jIy4nkqxp",
    "outputId": "3e9b0cff-5d8b-44e7-d696-5782cf7682c3"
   },
   "outputs": [
    {
     "name": "stdout",
     "output_type": "stream",
     "text": [
      "OrderedDict([('a', tensor([0.3367], device='cuda:0')), ('b', tensor([0.1288], device='cuda:0'))])\n",
      "OrderedDict([('a', tensor([1.0235], device='cuda:0')), ('b', tensor([1.9690], device='cuda:0'))])\n"
     ]
    }
   ],
   "source": [
    "torch.manual_seed(42)\n",
    "\n",
    "# Now we can create a model and send it at once to the device\n",
    "model = ManualLinearRegression().to(device)\n",
    "# We can also inspect its parameters using its state_dict\n",
    "print(model.state_dict())\n",
    "\n",
    "lr = 1e-1\n",
    "n_epochs = 1000\n",
    "\n",
    "loss_fn = nn.MSELoss(reduction='mean')\n",
    "optimizer = optim.SGD(model.parameters(), lr=lr)\n",
    "\n",
    "for epoch in range(n_epochs):\n",
    "    # What is this?!?\n",
    "    model.train()\n",
    "\n",
    "    # No more manual prediction!\n",
    "    # yhat = a + b * x_tensor\n",
    "    # Step 1\n",
    "    yhat = model(x_train_tensor)\n",
    "    # Step 2\n",
    "    loss = loss_fn(y_train_tensor, yhat)\n",
    "    # Step 3\n",
    "    loss.backward()\n",
    "    # Step 4\n",
    "    optimizer.step()\n",
    "    optimizer.zero_grad()\n",
    "\n",
    "print(model.state_dict())"
   ]
  },
  {
   "cell_type": "markdown",
   "metadata": {
    "id": "5nYXe9gKkv45"
   },
   "source": [
    "### Nested Models"
   ]
  },
  {
   "cell_type": "code",
   "execution_count": null,
   "metadata": {
    "id": "Pj0t9LiVkszp"
   },
   "outputs": [],
   "source": [
    "class LayerLinearRegression(nn.Module):\n",
    "    def __init__(self):\n",
    "        super().__init__()\n",
    "        # Instead of our custom parameters, we use a Linear layer with single input and single output\n",
    "        self.linear = nn.Linear(1, 1)\n",
    "\n",
    "    def forward(self, x):\n",
    "        # Now it only takes a call to the layer to make predictions\n",
    "        return self.linear(x)"
   ]
  },
  {
   "cell_type": "markdown",
   "metadata": {
    "id": "APQ7SBrRkzfn"
   },
   "source": [
    "### Sequential Models"
   ]
  },
  {
   "cell_type": "code",
   "execution_count": null,
   "metadata": {
    "id": "9K9_9HWckw9t"
   },
   "outputs": [],
   "source": [
    "# Alternatively, you can use a Sequential model\n",
    "model = nn.Sequential(nn.Linear(1, 1)).to(device)"
   ]
  },
  {
   "cell_type": "markdown",
   "metadata": {
    "id": "MwcCLpKNk5t4"
   },
   "source": [
    "## Training Step"
   ]
  },
  {
   "cell_type": "code",
   "execution_count": null,
   "metadata": {
    "colab": {
     "base_uri": "https://localhost:8080/"
    },
    "id": "I17f7bf0k0pL",
    "outputId": "49ee884e-d5ff-4fa2-ae6a-70fee9e9a3f9"
   },
   "outputs": [
    {
     "name": "stdout",
     "output_type": "stream",
     "text": [
      "OrderedDict([('0.weight', tensor([[1.9690]], device='cuda:0')), ('0.bias', tensor([1.0235], device='cuda:0'))])\n"
     ]
    }
   ],
   "source": [
    "def make_train_step(model, loss_fn, optimizer):\n",
    "    # Builds function that performs a step in the train loop\n",
    "    def train_step(x, y):\n",
    "        # Sets model to TRAIN mode\n",
    "        model.train()\n",
    "        # Step 1: Makes predictions\n",
    "        yhat = model(x)\n",
    "        # Step 2: Computes loss\n",
    "        loss = loss_fn(y, yhat)\n",
    "        # Step 3: Computes gradients\n",
    "        loss.backward()\n",
    "        # Step 4: Updates parameters and zeroes gradients\n",
    "        optimizer.step()\n",
    "        optimizer.zero_grad()\n",
    "        # Returns the loss\n",
    "        return loss.item()\n",
    "\n",
    "    # Returns the function that will be called inside the train loop\n",
    "    return train_step\n",
    "\n",
    "# Starts from scratch\n",
    "lr = 1e-1\n",
    "n_epochs = 1000\n",
    "model = nn.Sequential(nn.Linear(1, 1)).to(device)\n",
    "loss_fn = nn.MSELoss(reduction='mean')\n",
    "optimizer = optim.SGD(model.parameters(), lr=lr)\n",
    "\n",
    "# Creates the train_step function for our model, loss function and optimizer\n",
    "train_step = make_train_step(model, loss_fn, optimizer)\n",
    "losses = []\n",
    "\n",
    "# For each epoch...\n",
    "for epoch in range(n_epochs):\n",
    "    # Performs one train step and returns the corresponding loss\n",
    "    loss = train_step(x_train_tensor, y_train_tensor)\n",
    "    losses.append(loss)\n",
    "\n",
    "# Checks model's parameters\n",
    "print(model.state_dict())"
   ]
  },
  {
   "cell_type": "markdown",
   "metadata": {
    "id": "DPJ1cE-Xk9w7"
   },
   "source": [
    "## Dataset"
   ]
  },
  {
   "cell_type": "code",
   "execution_count": null,
   "metadata": {
    "colab": {
     "base_uri": "https://localhost:8080/"
    },
    "id": "Jt3E9uP4k8a0",
    "outputId": "faa5f95e-39f6-466a-f52b-3b3d63c039d1"
   },
   "outputs": [
    {
     "name": "stdout",
     "output_type": "stream",
     "text": [
      "(tensor([0.7713]), tensor([2.4745]))\n",
      "(tensor([0.7713]), tensor([2.4745]))\n"
     ]
    }
   ],
   "source": [
    "from torch.utils.data import Dataset, TensorDataset\n",
    "\n",
    "class CustomDataset(Dataset):\n",
    "    def __init__(self, x_tensor, y_tensor):\n",
    "        self.x = x_tensor\n",
    "        self.y = y_tensor\n",
    "\n",
    "    def __getitem__(self, index):\n",
    "        return (self.x[index], self.y[index])\n",
    "\n",
    "    def __len__(self):\n",
    "        return len(self.x)\n",
    "\n",
    "# Wait, is this a CPU tensor now? Why? Where is .to(device)?\n",
    "x_train_tensor = torch.from_numpy(x_train).float()\n",
    "y_train_tensor = torch.from_numpy(y_train).float()\n",
    "\n",
    "train_data = CustomDataset(x_train_tensor, y_train_tensor)\n",
    "print(train_data[0])\n",
    "\n",
    "train_data = TensorDataset(x_train_tensor, y_train_tensor)\n",
    "print(train_data[0])"
   ]
  },
  {
   "cell_type": "markdown",
   "metadata": {
    "id": "Mt6n0MxdlEJX"
   },
   "source": [
    "### DataLoader"
   ]
  },
  {
   "cell_type": "code",
   "execution_count": null,
   "metadata": {
    "id": "fNBv7ugtlAIi"
   },
   "outputs": [],
   "source": [
    "from torch.utils.data import DataLoader\n",
    "\n",
    "train_loader = DataLoader(dataset=train_data, batch_size=16, shuffle=True)"
   ]
  },
  {
   "cell_type": "code",
   "execution_count": null,
   "metadata": {
    "colab": {
     "base_uri": "https://localhost:8080/"
    },
    "id": "1YHcHWiclGWe",
    "outputId": "c30959af-eba4-463d-c648-6e787fa74202"
   },
   "outputs": [
    {
     "data": {
      "text/plain": [
       "[tensor([[0.1834],\n",
       "         [0.0452],\n",
       "         [0.8022],\n",
       "         [0.1395],\n",
       "         [0.7132],\n",
       "         [0.4722],\n",
       "         [0.0885],\n",
       "         [0.0055],\n",
       "         [0.6011],\n",
       "         [0.7320],\n",
       "         [0.5979],\n",
       "         [0.4952],\n",
       "         [0.8084],\n",
       "         [0.8324],\n",
       "         [0.3309],\n",
       "         [0.3745]]),\n",
       " tensor([[1.4637],\n",
       "         [0.9985],\n",
       "         [2.6229],\n",
       "         [1.3051],\n",
       "         [2.6162],\n",
       "         [1.9857],\n",
       "         [1.0708],\n",
       "         [1.0632],\n",
       "         [2.1214],\n",
       "         [2.4732],\n",
       "         [2.0407],\n",
       "         [1.8735],\n",
       "         [2.6141],\n",
       "         [2.6119],\n",
       "         [1.5427],\n",
       "         [1.7578]])]"
      ]
     },
     "execution_count": 21,
     "metadata": {},
     "output_type": "execute_result"
    }
   ],
   "source": [
    "next(iter(train_loader))"
   ]
  },
  {
   "cell_type": "code",
   "execution_count": null,
   "metadata": {
    "colab": {
     "base_uri": "https://localhost:8080/"
    },
    "id": "XznZ_HJLlHlf",
    "outputId": "193ba889-45dd-4aad-a8b2-469bf504a19a"
   },
   "outputs": [
    {
     "name": "stdout",
     "output_type": "stream",
     "text": [
      "OrderedDict([('0.weight', tensor([[1.9704]], device='cuda:0')), ('0.bias', tensor([1.0255], device='cuda:0'))])\n"
     ]
    }
   ],
   "source": [
    "# Starts from scratch\n",
    "lr = 1e-1\n",
    "n_epochs = 1000\n",
    "model = nn.Sequential(nn.Linear(1, 1)).to(device)\n",
    "loss_fn = nn.MSELoss(reduction='mean')\n",
    "optimizer = optim.SGD(model.parameters(), lr=lr)\n",
    "\n",
    "losses = []\n",
    "train_step = make_train_step(model, loss_fn, optimizer)\n",
    "\n",
    "for epoch in range(n_epochs):\n",
    "    for x_batch, y_batch in train_loader:\n",
    "        # the dataset \"lives\" in the CPU, so do our mini-batches\n",
    "        # therefore, we need to send those mini-batches to the\n",
    "        # device where the model \"lives\"\n",
    "        x_batch = x_batch.to(device)\n",
    "        y_batch = y_batch.to(device)\n",
    "\n",
    "        loss = train_step(x_batch, y_batch)\n",
    "        losses.append(loss)\n",
    "\n",
    "print(model.state_dict())"
   ]
  },
  {
   "cell_type": "markdown",
   "metadata": {
    "id": "LtAnpMCxlShp"
   },
   "source": [
    "### Random Split"
   ]
  },
  {
   "cell_type": "code",
   "execution_count": null,
   "metadata": {
    "id": "5LQPmf3xlJ_L"
   },
   "outputs": [],
   "source": [
    "from torch.utils.data.dataset import random_split\n",
    "\n",
    "x_tensor = torch.from_numpy(x).float()\n",
    "y_tensor = torch.from_numpy(y).float()\n",
    "\n",
    "dataset = TensorDataset(x_tensor, y_tensor)\n",
    "\n",
    "train_dataset, val_dataset = random_split(dataset, [80, 20])\n",
    "\n",
    "train_loader = DataLoader(dataset=train_dataset, batch_size=16)\n",
    "val_loader = DataLoader(dataset=val_dataset, batch_size=20)"
   ]
  },
  {
   "cell_type": "markdown",
   "metadata": {
    "id": "5BKRIKeqlVK_"
   },
   "source": [
    "## Evaluation"
   ]
  },
  {
   "cell_type": "code",
   "execution_count": null,
   "metadata": {
    "colab": {
     "base_uri": "https://localhost:8080/"
    },
    "id": "W4uplL1slT_I",
    "outputId": "38c6a951-f3f7-46ff-8312-4849068bac8e"
   },
   "outputs": [
    {
     "name": "stdout",
     "output_type": "stream",
     "text": [
      "OrderedDict([('0.weight', tensor([[1.9494]], device='cuda:0')), ('0.bias', tensor([1.0262], device='cuda:0'))])\n"
     ]
    }
   ],
   "source": [
    "# Starts from scratch\n",
    "lr = 1e-1\n",
    "n_epochs = 1000\n",
    "model = nn.Sequential(nn.Linear(1, 1)).to(device)\n",
    "loss_fn = nn.MSELoss(reduction='mean')\n",
    "optimizer = optim.SGD(model.parameters(), lr=lr)\n",
    "\n",
    "losses = []\n",
    "val_losses = []\n",
    "train_step = make_train_step(model, loss_fn, optimizer)\n",
    "\n",
    "for epoch in range(n_epochs):\n",
    "    for x_batch, y_batch in train_loader:\n",
    "        x_batch = x_batch.to(device)\n",
    "        y_batch = y_batch.to(device)\n",
    "\n",
    "        loss = train_step(x_batch, y_batch)\n",
    "        losses.append(loss)\n",
    "\n",
    "    with torch.no_grad():\n",
    "        for x_val, y_val in val_loader:\n",
    "            x_val = x_val.to(device)\n",
    "            y_val = y_val.to(device)\n",
    "            # Evaluation only performs Steps 1 and 2\n",
    "            model.eval()\n",
    "            # Step 1\n",
    "            yhat = model(x_val)              # Line 20\n",
    "            # Step 2\n",
    "            val_loss = loss_fn(y_val, yhat)  # Line 22\n",
    "            val_losses.append(val_loss.item())\n",
    "\n",
    "print(model.state_dict())"
   ]
  },
  {
   "cell_type": "code",
   "execution_count": null,
   "metadata": {
    "id": "N2LHlyLTlXtA"
   },
   "outputs": [],
   "source": []
  }
 ],
 "metadata": {
  "accelerator": "GPU",
  "colab": {
   "gpuType": "T4",
   "provenance": []
  },
  "kernelspec": {
   "display_name": "Python 3",
   "language": "python",
   "name": "python3"
  },
  "language_info": {
   "codemirror_mode": {
    "name": "ipython",
    "version": 3
   },
   "file_extension": ".py",
   "mimetype": "text/x-python",
   "name": "python",
   "nbconvert_exporter": "python",
   "pygments_lexer": "ipython3",
   "version": "3.7.4"
  }
 },
 "nbformat": 4,
 "nbformat_minor": 1
}
